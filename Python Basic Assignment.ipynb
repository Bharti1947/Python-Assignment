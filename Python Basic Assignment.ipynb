{
 "cells": [
  {
   "cell_type": "code",
   "execution_count": null,
   "id": "b76bb9cc-6c70-4a34-ad1f-af75ba4cb341",
   "metadata": {},
   "outputs": [],
   "source": [
    "#Question1. Explain the Key features of Python that make it a popular choice for programming.\n",
    "#Answer1. The key features of python that make it a popular choice for programming are.\n",
    "# Python is easy to understand and easy to code.\n",
    "# Python is a free open source platform that can be downladed easily.\n",
    "# Python has many libraries that make tasks easier and faster.\n",
    "# Python has a large and active community of developers.\n",
    "# Python can easily integrate with other languages and technologies.\n"
   ]
  },
  {
   "cell_type": "code",
   "execution_count": 2,
   "id": "cff84187-2f30-4c2b-a35c-2298e327d3ef",
   "metadata": {},
   "outputs": [
    {
     "name": "stdout",
     "output_type": "stream",
     "text": [
      "\n",
      "Here is a list of the Python keywords.  Enter any keyword to get more help.\n",
      "\n",
      "False               class               from                or\n",
      "None                continue            global              pass\n",
      "True                def                 if                  raise\n",
      "and                 del                 import              return\n",
      "as                  elif                in                  try\n",
      "assert              else                is                  while\n",
      "async               except              lambda              with\n",
      "await               finally             nonlocal            yield\n",
      "break               for                 not                 \n",
      "\n"
     ]
    }
   ],
   "source": [
    "#Question2. Describe the role of predefined keywords in Python and Provide examples of how they are used in a Program.\n",
    "# Answer2. Keywords are reserved words in python that have Special meaning and have specific purpose in python.\n",
    "help(\"keywords\")"
   ]
  },
  {
   "cell_type": "code",
   "execution_count": 67,
   "id": "9157927c-6748-4db5-ae95-a56ee44541cc",
   "metadata": {},
   "outputs": [
    {
     "data": {
      "text/plain": [
       "bool"
      ]
     },
     "execution_count": 67,
     "metadata": {},
     "output_type": "execute_result"
    }
   ],
   "source": [
    "b = True\n",
    "type(b)"
   ]
  },
  {
   "cell_type": "code",
   "execution_count": 68,
   "id": "7804bd5d-e047-4d82-b6c7-3bfb63a6d37a",
   "metadata": {},
   "outputs": [
    {
     "data": {
      "text/plain": [
       "True"
      ]
     },
     "execution_count": 68,
     "metadata": {},
     "output_type": "execute_result"
    }
   ],
   "source": [
    "True or False"
   ]
  },
  {
   "cell_type": "code",
   "execution_count": null,
   "id": "d8162af0-fe0d-47a1-a13d-e6a779cfeede",
   "metadata": {},
   "outputs": [],
   "source": [
    "# Question3. Compare and contrast mutable and immutable objects in python with examples.\n",
    "# Mutable Objects - Objects whose value can be changed after they are created are called as mutable objects.\n",
    "# example - List.\n",
    "# Immutable Objects - Objects whose value cannot be changed after they are created are called as immutable objects.\n",
    "# example - string."
   ]
  },
  {
   "cell_type": "code",
   "execution_count": 23,
   "id": "f92831fd-b97c-4af3-9a8f-8385a79c8f8a",
   "metadata": {},
   "outputs": [
    {
     "data": {
      "text/plain": [
       "9.9"
      ]
     },
     "execution_count": 23,
     "metadata": {},
     "output_type": "execute_result"
    }
   ],
   "source": [
    "# Mutable object\n",
    "L = [1,5,7,9.9,\"First\",True,None]\n",
    "L[3]"
   ]
  },
  {
   "cell_type": "code",
   "execution_count": 24,
   "id": "f75fddc9-c879-48b4-8779-0530a1bb0e0b",
   "metadata": {},
   "outputs": [
    {
     "data": {
      "text/plain": [
       "[1, 5, 7, 'Second', 'First', True, None]"
      ]
     },
     "execution_count": 24,
     "metadata": {},
     "output_type": "execute_result"
    }
   ],
   "source": [
    "L[3]=\"Second\"\n",
    "L"
   ]
  },
  {
   "cell_type": "code",
   "execution_count": 25,
   "id": "1d1d9629-53af-4cea-869b-dc86df217761",
   "metadata": {},
   "outputs": [
    {
     "data": {
      "text/plain": [
       "'s'"
      ]
     },
     "execution_count": 25,
     "metadata": {},
     "output_type": "execute_result"
    }
   ],
   "source": [
    "#Immutable Object\n",
    "b = \"Pwskills\"\n",
    "b[2]"
   ]
  },
  {
   "cell_type": "code",
   "execution_count": null,
   "id": "052f5f89-0989-4494-998f-a141f61bd61a",
   "metadata": {},
   "outputs": [],
   "source": [
    "# Question4. Discuss the different type of operators in Python and provide examples of how they are used.\n",
    "# Answer4. Operators are special symbols or keywords that are used to perform on number or variable in python expressions.\n"
   ]
  },
  {
   "cell_type": "code",
   "execution_count": 26,
   "id": "314c7c1a-2bc0-43fd-bb83-fb775d1a2dba",
   "metadata": {},
   "outputs": [
    {
     "data": {
      "text/plain": [
       "14"
      ]
     },
     "execution_count": 26,
     "metadata": {},
     "output_type": "execute_result"
    }
   ],
   "source": [
    "# Airthmetic operator:- +, -, *, /, %, etc.\n",
    "5+9"
   ]
  },
  {
   "cell_type": "code",
   "execution_count": 28,
   "id": "29cd9c6d-b1ce-4206-9121-cf0357a85607",
   "metadata": {},
   "outputs": [
    {
     "data": {
      "text/plain": [
       "True"
      ]
     },
     "execution_count": 28,
     "metadata": {},
     "output_type": "execute_result"
    }
   ],
   "source": [
    "# Comparison Operator:- ==, !=, >, <, etc.\n",
    "7>5"
   ]
  },
  {
   "cell_type": "code",
   "execution_count": 29,
   "id": "76448807-b946-40ba-ab30-103fa698eeb1",
   "metadata": {},
   "outputs": [
    {
     "data": {
      "text/plain": [
       "False"
      ]
     },
     "execution_count": 29,
     "metadata": {},
     "output_type": "execute_result"
    }
   ],
   "source": [
    "# Logical Operator:- and, or, not.\n",
    "True and False"
   ]
  },
  {
   "cell_type": "code",
   "execution_count": 30,
   "id": "276d3a4c-09fc-4169-b4c1-112c6f330169",
   "metadata": {},
   "outputs": [
    {
     "data": {
      "text/plain": [
       "True"
      ]
     },
     "execution_count": 30,
     "metadata": {},
     "output_type": "execute_result"
    }
   ],
   "source": [
    "# Membership Operator:- \"in\" and \"not in\"\n",
    "d= \"Python\"\n",
    "\"yt\" in d"
   ]
  },
  {
   "cell_type": "code",
   "execution_count": 33,
   "id": "9e9e008c-2bd5-44f7-8e93-6ade81627b6c",
   "metadata": {},
   "outputs": [
    {
     "data": {
      "text/plain": [
       "True"
      ]
     },
     "execution_count": 33,
     "metadata": {},
     "output_type": "execute_result"
    }
   ],
   "source": [
    "# Identity Operator:- \"is\" and \"is not\"\n",
    "a = 5\n",
    "b = 8\n",
    "a is not b"
   ]
  },
  {
   "cell_type": "code",
   "execution_count": 34,
   "id": "769de707-77ad-447e-bdc3-9d56e796987a",
   "metadata": {},
   "outputs": [
    {
     "data": {
      "text/plain": [
       "10"
      ]
     },
     "execution_count": 34,
     "metadata": {},
     "output_type": "execute_result"
    }
   ],
   "source": [
    "# Bitwise Operator:- &, |, ^, >>, <<, etc. \n",
    "15&10"
   ]
  },
  {
   "cell_type": "code",
   "execution_count": 37,
   "id": "2b2d7cb4-bdc8-4081-95f0-2d4037ec2979",
   "metadata": {},
   "outputs": [
    {
     "data": {
      "text/plain": [
       "'0b1010'"
      ]
     },
     "execution_count": 37,
     "metadata": {},
     "output_type": "execute_result"
    }
   ],
   "source": [
    "bin(10)"
   ]
  },
  {
   "cell_type": "code",
   "execution_count": 38,
   "id": "413f6ae2-659c-4daf-8f0f-8959f284836f",
   "metadata": {},
   "outputs": [
    {
     "data": {
      "text/plain": [
       "5"
      ]
     },
     "execution_count": 38,
     "metadata": {},
     "output_type": "execute_result"
    }
   ],
   "source": [
    "15^10"
   ]
  },
  {
   "cell_type": "code",
   "execution_count": 39,
   "id": "ed478d3c-c9de-487c-b27f-473097c1ccbf",
   "metadata": {},
   "outputs": [
    {
     "data": {
      "text/plain": [
       "'0b101'"
      ]
     },
     "execution_count": 39,
     "metadata": {},
     "output_type": "execute_result"
    }
   ],
   "source": [
    "bin(5)"
   ]
  },
  {
   "cell_type": "code",
   "execution_count": null,
   "id": "769d2b49-46a6-4f7b-bfbc-fc8b92beff12",
   "metadata": {},
   "outputs": [],
   "source": [
    "# Question5. Explain the concept of type casting in Python with examples.\n",
    "# Answer5. Type Casting is the process of changing one data type to another data type.\n",
    "# It is used while performing  airthmetic operations, data manipulation and in input/output operations.\n",
    "# Example:- int(), float(), str(), etc."
   ]
  },
  {
   "cell_type": "code",
   "execution_count": 40,
   "id": "0e72b557-3696-4296-9ac1-e731f664a481",
   "metadata": {},
   "outputs": [
    {
     "data": {
      "text/plain": [
       "float"
      ]
     },
     "execution_count": 40,
     "metadata": {},
     "output_type": "execute_result"
    }
   ],
   "source": [
    "a=8.6\n",
    "type(a)"
   ]
  },
  {
   "cell_type": "code",
   "execution_count": 42,
   "id": "3b8cc2f7-ad1c-4e56-842e-1e141f446570",
   "metadata": {},
   "outputs": [
    {
     "data": {
      "text/plain": [
       "8"
      ]
     },
     "execution_count": 42,
     "metadata": {},
     "output_type": "execute_result"
    }
   ],
   "source": [
    "# float to int\n",
    "int(a)"
   ]
  },
  {
   "cell_type": "code",
   "execution_count": 44,
   "id": "41abbbaf-3745-4c89-8b2d-e0120f675f4f",
   "metadata": {},
   "outputs": [
    {
     "data": {
      "text/plain": [
       "13"
      ]
     },
     "execution_count": 44,
     "metadata": {},
     "output_type": "execute_result"
    }
   ],
   "source": [
    "# string to int\n",
    "int(\"8\")+5"
   ]
  },
  {
   "cell_type": "code",
   "execution_count": null,
   "id": "849b1aa6-a6e7-465b-a48a-44d87a8eeeb7",
   "metadata": {},
   "outputs": [],
   "source": [
    "#Question6. How do conditional statements work in python? illustrate with examples.\n",
    "# Answer6. Conditional statements in python allow to execute different blocks of code based on ceratin Conditions.\n",
    "# Examples:- if, elif, else, etc."
   ]
  },
  {
   "cell_type": "code",
   "execution_count": 45,
   "id": "a7017d74-a29c-4b88-b4ff-535bf49357b6",
   "metadata": {},
   "outputs": [
    {
     "name": "stdout",
     "output_type": "stream",
     "text": [
      "I will go to play badminton\n"
     ]
    }
   ],
   "source": [
    "# if else\n",
    "weather=\"sunny\"\n",
    "if weather==\"sunny\":\n",
    "    print(\"I will go to play badminton\")\n",
    "else:\n",
    "    print(\"I will sleep\")"
   ]
  },
  {
   "cell_type": "code",
   "execution_count": 48,
   "id": "7932c04a-1921-4f27-86d5-abb66ad471fc",
   "metadata": {},
   "outputs": [
    {
     "name": "stdin",
     "output_type": "stream",
     "text": [
      "Student Total Marks 58\n"
     ]
    },
    {
     "name": "stdout",
     "output_type": "stream",
     "text": [
      "Grade C\n"
     ]
    }
   ],
   "source": [
    "# if elif\n",
    "marks=int(input(\"Student Total Marks\"))\n",
    "if marks>=90:\n",
    "          print(\"Grade A\")\n",
    "elif 70<= marks<90:\n",
    "          print(\"Grade B\")\n",
    "elif 50<=marks<70:\n",
    "          print(\"Grade C\")\n",
    "elif 33<=marks<50:\n",
    "          print(\"Grade D\")\n",
    "else:\n",
    "          print(\"You are failed\")\n",
    "          "
   ]
  },
  {
   "cell_type": "code",
   "execution_count": 70,
   "id": "da9349aa-5304-4945-9d0d-d4e127a07869",
   "metadata": {},
   "outputs": [
    {
     "name": "stdout",
     "output_type": "stream",
     "text": [
      "Age criteria does not match\n"
     ]
    }
   ],
   "source": [
    "# nested if\n",
    "Candidate = True\n",
    "age = 40\n",
    "if Candidate:\n",
    "    if 25<=age<=35:\n",
    "        print(\"You can fill the form\")\n",
    "    else:\n",
    "        print(\"Age criteria does not match\")\n",
    "else:\n",
    "    print(\"You cannot fill the form\")\n",
    "    "
   ]
  },
  {
   "cell_type": "code",
   "execution_count": null,
   "id": "d6a0f4db-6cac-4bbc-8681-e35fc6fce74f",
   "metadata": {},
   "outputs": [],
   "source": [
    "# Question7. Describe different type of loops in python and their use cases with examples.\n",
    "# Answer7. loops are used to execute block of code repeatedly.\n",
    "# There are mainly two types of loop \"for\" and \"while\" loop.\n"
   ]
  },
  {
   "cell_type": "code",
   "execution_count": 56,
   "id": "79b3dcc3-a7c8-4fc6-9ca3-6da16c587e89",
   "metadata": {},
   "outputs": [
    {
     "name": "stdout",
     "output_type": "stream",
     "text": [
      "2\n",
      "3\n",
      "4\n",
      "5\n",
      "This is will be executed when there is no break\n"
     ]
    }
   ],
   "source": [
    "# while loop - It repeatedly executes a code until a condition is met.\n",
    "n=5\n",
    "i=2\n",
    "while i<=n:\n",
    "    print(i)\n",
    "    i=i+1\n",
    "else:\n",
    "    print(\"This is will be executed when there is no break\")\n"
   ]
  },
  {
   "cell_type": "code",
   "execution_count": 58,
   "id": "ec42d2e9-2555-4c45-a900-b06350b79af6",
   "metadata": {},
   "outputs": [
    {
     "name": "stdout",
     "output_type": "stream",
     "text": [
      "2\n",
      "3\n"
     ]
    }
   ],
   "source": [
    "n=5\n",
    "i=2\n",
    "while i<=n:\n",
    "    print(i)\n",
    "    i=i+1\n",
    "    if i==4:\n",
    "        break\n",
    "else:\n",
    "    print(\"This is will be executed when there is no break\")\n"
   ]
  },
  {
   "cell_type": "code",
   "execution_count": 62,
   "id": "4e68ffa7-cb5c-4493-98eb-d6647f13c624",
   "metadata": {},
   "outputs": [
    {
     "name": "stdout",
     "output_type": "stream",
     "text": [
      "2\n",
      "3\n",
      "5\n",
      "6\n",
      "7\n",
      "This is will be executed when there is no break\n"
     ]
    }
   ],
   "source": [
    "n=7\n",
    "i=1\n",
    "while i<n:\n",
    "    i=i+1\n",
    "    if i==4:\n",
    "        continue\n",
    "    print(i)\n",
    "else:\n",
    "    print(\"This is will be executed when there is no break\")\n"
   ]
  },
  {
   "cell_type": "code",
   "execution_count": 63,
   "id": "82e50fbf-61a4-46d4-9af0-6d357c9f19d5",
   "metadata": {},
   "outputs": [
    {
     "name": "stdout",
     "output_type": "stream",
     "text": [
      "2\n",
      "5\n",
      "7\n",
      "4.5\n"
     ]
    }
   ],
   "source": [
    "#for loops - iterate over a sequence of elements.\n",
    "l=[2,5,7,4.5]\n",
    "for i in l:\n",
    "    print(i)"
   ]
  },
  {
   "cell_type": "code",
   "execution_count": 64,
   "id": "4011e062-6a32-44eb-828f-f3ec37c73716",
   "metadata": {},
   "outputs": [
    {
     "name": "stdout",
     "output_type": "stream",
     "text": [
      "#\n",
      "##\n",
      "###\n",
      "####\n",
      "#####\n"
     ]
    }
   ],
   "source": [
    "for i in range(5):\n",
    "    for j in range(i+1):\n",
    "        print(\"#\",end=\"\")\n",
    "    print()\n"
   ]
  },
  {
   "cell_type": "code",
   "execution_count": 66,
   "id": "8fe1ff12-f82c-47d2-be18-e215de4ac912",
   "metadata": {},
   "outputs": [
    {
     "name": "stdout",
     "output_type": "stream",
     "text": [
      "* * * * * \n",
      "* * * * * \n",
      "* * * * * \n",
      "* * * * * \n",
      "* * * * * \n"
     ]
    }
   ],
   "source": [
    "for i in range(5):\n",
    "    for j in range(5):\n",
    "        print(\"*\",end=\" \")\n",
    "    print()\n"
   ]
  },
  {
   "cell_type": "code",
   "execution_count": null,
   "id": "0da82b27-75e1-42f5-a106-91934d00b009",
   "metadata": {},
   "outputs": [],
   "source": []
  }
 ],
 "metadata": {
  "kernelspec": {
   "display_name": "Python 3 (ipykernel)",
   "language": "python",
   "name": "python3"
  },
  "language_info": {
   "codemirror_mode": {
    "name": "ipython",
    "version": 3
   },
   "file_extension": ".py",
   "mimetype": "text/x-python",
   "name": "python",
   "nbconvert_exporter": "python",
   "pygments_lexer": "ipython3",
   "version": "3.10.8"
  }
 },
 "nbformat": 4,
 "nbformat_minor": 5
}
